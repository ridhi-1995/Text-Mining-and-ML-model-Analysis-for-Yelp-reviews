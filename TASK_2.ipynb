{
 "cells": [
  {
   "cell_type": "markdown",
   "id": "48084b97",
   "metadata": {},
   "source": [
    "# Data Science Assignment_1 "
   ]
  },
  {
   "cell_type": "markdown",
   "id": "d05604e4",
   "metadata": {},
   "source": [
    "<table>\n",
    "    <tr><td><b>Name : Ridhi Sharma</b></td></tr>\n",
    "    <tr><td><b>Student Number : 21201977</b></td></tr>\n",
    "    <tr><td><b>Review DB URL : http://mlg.ucd.ie/modules/python/assign2/21201977/\"</b></td></tr>\n",
    "</table>"
   ]
  },
  {
   "cell_type": "markdown",
   "id": "b3da9b57",
   "metadata": {},
   "source": [
    "The objective of this assignment is to scrape a collection of product reviews from a set of web pages, preprocess the data, and evaluate the performance of different classifiers in the context of two related text classification tasks: (i) predicting review sentiment; (ii) predicting review helpfulness."
   ]
  },
  {
   "cell_type": "markdown",
   "id": "9bf626e2",
   "metadata": {},
   "source": [
    "### This notebook covers Task 2 -  Review Sentiment Classification and Task 3 -  Review Helpfulness Classification."
   ]
  },
  {
   "cell_type": "markdown",
   "id": "75002d49",
   "metadata": {},
   "source": [
    "In this notebook, we are going to first assign class values according to ratings and helpfulness information given to us and then train the model based on different binary classifiers.<br>\n",
    "We will be analyzing the below steps:<br>\n",
    "**1. Text preprocessing:** <br>\n",
    "    a. This we will do by filtering the text documents<br>\n",
    "    b. Applying a custom tokenizer to handle stemming and lemming<br>\n",
    "    c. Applying vectorization of two types count and tfidf<br>\n",
    "**2. Classification:** <br>\n",
    "    a. Hold-out Strategy, for this we will create a train-test split apply the model on a training set, and predict the results of testing data test.<br>\n",
    "    b. Cross-Validation, in this we will take the whole data set and perform 'n' number of folds and calculate the accuracy.<br>\n",
    "    c. Pipe-line, this a method where we can combine the text pre-processing and classification.<br>\n",
    "**3. Comparision** <br> \n",
    "    Then we would be comparing different classifiers using the above techniques for Sentiment and Helpfulness Classification"
   ]
  },
  {
   "cell_type": "code",
   "execution_count": 1,
   "id": "74783e92",
   "metadata": {},
   "outputs": [],
   "source": [
    "#libraries used\n",
    "from pathlib import Path\n",
    "import pandas as pd\n",
    "import numpy as np\n",
    "import re\n",
    "from sklearn.model_selection import cross_val_score\n",
    "from sklearn.feature_extraction import text\n",
    "from sklearn.metrics.pairwise import cosine_similarity\n",
    "from sklearn.metrics import classification_report\n",
    "from sklearn.pipeline import Pipeline\n",
    "from sklearn.linear_model import SGDClassifier\n",
    "from sklearn.model_selection import train_test_split \n",
    "from sklearn.feature_extraction.text import CountVectorizer, TfidfTransformer, TfidfVectorizer\n",
    "from sklearn.neighbors import KNeighborsClassifier\n",
    "from nltk.stem import WordNetLemmatizer\n",
    "from sklearn.linear_model import LogisticRegression\n",
    "from sklearn.metrics import accuracy_score, confusion_matrix, ConfusionMatrixDisplay\n",
    "from nltk.stem.porter import PorterStemmer\n",
    "%matplotlib inline"
   ]
  },
  {
   "cell_type": "markdown",
   "id": "ddfff5e9",
   "metadata": {},
   "source": [
    "Path to read review.csv"
   ]
  },
  {
   "cell_type": "code",
   "execution_count": 2,
   "id": "008b2ffb",
   "metadata": {},
   "outputs": [],
   "source": [
    "# directory for raw data storage\n",
    "dir_raw = Path(\"raw\")\n",
    "filePath_raw = dir_raw/\"reviwes.csv\""
   ]
  },
  {
   "cell_type": "markdown",
   "id": "ecf0b9df",
   "metadata": {},
   "source": [
    "Below code is used to allign the plots in the centre of the notebook"
   ]
  },
  {
   "cell_type": "code",
   "execution_count": 3,
   "id": "135750bd",
   "metadata": {},
   "outputs": [
    {
     "data": {
      "text/html": [
       "\n",
       "<style>\n",
       ".output_png {\n",
       "    display: table-cell;\n",
       "    text-align: center;\n",
       "    vertical-align: middle;\n",
       "}\n",
       "</style>\n"
      ],
      "text/plain": [
       "<IPython.core.display.HTML object>"
      ]
     },
     "execution_count": 3,
     "metadata": {},
     "output_type": "execute_result"
    }
   ],
   "source": [
    "from IPython.core.display import HTML\n",
    "HTML(\"\"\"\n",
    "<style>\n",
    ".output_png {\n",
    "    display: table-cell;\n",
    "    text-align: center;\n",
    "    vertical-align: middle;\n",
    "}\n",
    "</style>\n",
    "\"\"\")"
   ]
  },
  {
   "cell_type": "markdown",
   "id": "cf1e8b49",
   "metadata": {},
   "source": [
    "First we read the .csv file as a dataframe which will simplify our analysis further"
   ]
  },
  {
   "cell_type": "code",
   "execution_count": 4,
   "id": "a92a5cde",
   "metadata": {},
   "outputs": [],
   "source": [
    "dataframe_reviews = pd.read_csv(filePath_raw) "
   ]
  },
  {
   "cell_type": "markdown",
   "id": "6f71d697",
   "metadata": {},
   "source": [
    "## Part-2 Sentiment Analysis"
   ]
  },
  {
   "cell_type": "markdown",
   "id": "cbc47682",
   "metadata": {},
   "source": [
    "### Assigning Class Labels"
   ]
  },
  {
   "cell_type": "markdown",
   "id": "aa242307",
   "metadata": {},
   "source": [
    "Defined a function to assign sentiments based on the rating, we were provided with the information to assume that 1-star to 3-star reviews are “negative”, and 4-star to 5-star reviews are “positive”."
   ]
  },
  {
   "cell_type": "code",
   "execution_count": 5,
   "id": "7dd7c685",
   "metadata": {},
   "outputs": [],
   "source": [
    "def assign_sentiments(df):\n",
    "    Sentiments = []\n",
    "    for row in df[\"Rating\"]:\n",
    "        if row < 3: Sentiments.append(\"Negative\")\n",
    "        else: Sentiments.append(\"Postive\")\n",
    "    df['Sentiments'] = Sentiments\n",
    "    return df"
   ]
  },
  {
   "cell_type": "markdown",
   "id": "dfab9dcb",
   "metadata": {},
   "source": [
    "We now create a new data frame with Sentiment values for Part-2 Analysis."
   ]
  },
  {
   "cell_type": "code",
   "execution_count": 6,
   "id": "aa93f6a8",
   "metadata": {},
   "outputs": [],
   "source": [
    "#save this data frame for sentiments for each analysis\n",
    "df_reviews_sentiments= assign_sentiments(dataframe_reviews)"
   ]
  },
  {
   "cell_type": "code",
   "execution_count": 7,
   "id": "33c5b0d6",
   "metadata": {},
   "outputs": [
    {
     "data": {
      "text/html": [
       "<div>\n",
       "<style scoped>\n",
       "    .dataframe tbody tr th:only-of-type {\n",
       "        vertical-align: middle;\n",
       "    }\n",
       "\n",
       "    .dataframe tbody tr th {\n",
       "        vertical-align: top;\n",
       "    }\n",
       "\n",
       "    .dataframe thead th {\n",
       "        text-align: right;\n",
       "    }\n",
       "</style>\n",
       "<table border=\"1\" class=\"dataframe\">\n",
       "  <thead>\n",
       "    <tr style=\"text-align: right;\">\n",
       "      <th></th>\n",
       "      <th>Main Title</th>\n",
       "      <th>Review Title</th>\n",
       "      <th>Rating</th>\n",
       "      <th>Helpfulness Information</th>\n",
       "      <th>Review Body</th>\n",
       "      <th>Sentiments</th>\n",
       "    </tr>\n",
       "  </thead>\n",
       "  <tbody>\n",
       "    <tr>\n",
       "      <th>0</th>\n",
       "      <td>Product Reviews Archive January 2016</td>\n",
       "      <td>The herbs were great...but the cherry tomatoes...</td>\n",
       "      <td>2</td>\n",
       "      <td>88.235294</td>\n",
       "      <td>The herb kit that came with my Aerogarden was ...</td>\n",
       "      <td>Negative</td>\n",
       "    </tr>\n",
       "    <tr>\n",
       "      <th>1</th>\n",
       "      <td>Product Reviews Archive January 2016</td>\n",
       "      <td>Even more useful than regular parchment paper</td>\n",
       "      <td>5</td>\n",
       "      <td>100.000000</td>\n",
       "      <td>I originally bought this just because it was c...</td>\n",
       "      <td>Postive</td>\n",
       "    </tr>\n",
       "    <tr>\n",
       "      <th>2</th>\n",
       "      <td>Product Reviews Archive January 2016</td>\n",
       "      <td>Shake it before you bake it</td>\n",
       "      <td>2</td>\n",
       "      <td>15.384615</td>\n",
       "      <td>If you do it in reverse (bake before shaking),...</td>\n",
       "      <td>Negative</td>\n",
       "    </tr>\n",
       "    <tr>\n",
       "      <th>3</th>\n",
       "      <td>Product Reviews Archive January 2016</td>\n",
       "      <td>Not what the picture describes</td>\n",
       "      <td>2</td>\n",
       "      <td>50.000000</td>\n",
       "      <td>I bought this steak for my father in law for C...</td>\n",
       "      <td>Negative</td>\n",
       "    </tr>\n",
       "  </tbody>\n",
       "</table>\n",
       "</div>"
      ],
      "text/plain": [
       "                             Main Title  \\\n",
       "0  Product Reviews Archive January 2016   \n",
       "1  Product Reviews Archive January 2016   \n",
       "2  Product Reviews Archive January 2016   \n",
       "3  Product Reviews Archive January 2016   \n",
       "\n",
       "                                        Review Title  Rating  \\\n",
       "0  The herbs were great...but the cherry tomatoes...       2   \n",
       "1      Even more useful than regular parchment paper       5   \n",
       "2                        Shake it before you bake it       2   \n",
       "3                     Not what the picture describes       2   \n",
       "\n",
       "   Helpfulness Information                                        Review Body  \\\n",
       "0                88.235294  The herb kit that came with my Aerogarden was ...   \n",
       "1               100.000000  I originally bought this just because it was c...   \n",
       "2                15.384615  If you do it in reverse (bake before shaking),...   \n",
       "3                50.000000  I bought this steak for my father in law for C...   \n",
       "\n",
       "  Sentiments  \n",
       "0   Negative  \n",
       "1    Postive  \n",
       "2   Negative  \n",
       "3   Negative  "
      ]
     },
     "execution_count": 7,
     "metadata": {},
     "output_type": "execute_result"
    }
   ],
   "source": [
    "df_reviews_sentiments[0:4]"
   ]
  },
  {
   "cell_type": "markdown",
   "id": "2578a719",
   "metadata": {},
   "source": [
    "Now we create a data frame as a set of documents, where each row is a concatenation of the review’s title and body text and has a class value same as sentiments. This will be our main data set to deal with for Part-2"
   ]
  },
  {
   "cell_type": "code",
   "execution_count": 8,
   "id": "af66eeeb",
   "metadata": {},
   "outputs": [
    {
     "data": {
      "text/html": [
       "<div>\n",
       "<style scoped>\n",
       "    .dataframe tbody tr th:only-of-type {\n",
       "        vertical-align: middle;\n",
       "    }\n",
       "\n",
       "    .dataframe tbody tr th {\n",
       "        vertical-align: top;\n",
       "    }\n",
       "\n",
       "    .dataframe thead th {\n",
       "        text-align: right;\n",
       "    }\n",
       "</style>\n",
       "<table border=\"1\" class=\"dataframe\">\n",
       "  <thead>\n",
       "    <tr style=\"text-align: right;\">\n",
       "      <th></th>\n",
       "      <th>Review Text</th>\n",
       "      <th>Class</th>\n",
       "    </tr>\n",
       "  </thead>\n",
       "  <tbody>\n",
       "    <tr>\n",
       "      <th>0</th>\n",
       "      <td>The herbs were great...but the cherry tomatoes...</td>\n",
       "      <td>Negative</td>\n",
       "    </tr>\n",
       "    <tr>\n",
       "      <th>1</th>\n",
       "      <td>Even more useful than regular parchment paper ...</td>\n",
       "      <td>Postive</td>\n",
       "    </tr>\n",
       "    <tr>\n",
       "      <th>2</th>\n",
       "      <td>Shake it before you bake it If you do it in re...</td>\n",
       "      <td>Negative</td>\n",
       "    </tr>\n",
       "    <tr>\n",
       "      <th>3</th>\n",
       "      <td>Not what the picture describes I bought this s...</td>\n",
       "      <td>Negative</td>\n",
       "    </tr>\n",
       "  </tbody>\n",
       "</table>\n",
       "</div>"
      ],
      "text/plain": [
       "                                         Review Text     Class\n",
       "0  The herbs were great...but the cherry tomatoes...  Negative\n",
       "1  Even more useful than regular parchment paper ...   Postive\n",
       "2  Shake it before you bake it If you do it in re...  Negative\n",
       "3  Not what the picture describes I bought this s...  Negative"
      ]
     },
     "execution_count": 8,
     "metadata": {},
     "output_type": "execute_result"
    }
   ],
   "source": [
    "#define a new data frame for classification\n",
    "df_text_sentiments = pd.DataFrame({\"Review Text\": df_reviews_sentiments[\"Review Title\"]+\" \"+df_reviews_sentiments[\"Review Body\"]\n",
    "                            ,\"Class\":df_reviews_sentiments[\"Sentiments\"]})\n",
    "df_text_sentiments[0:4]"
   ]
  },
  {
   "cell_type": "markdown",
   "id": "5c70fa85",
   "metadata": {},
   "source": [
    "For classification purpose we need a list of documents and the class labels as separate variables to handle and for easy representation."
   ]
  },
  {
   "cell_type": "code",
   "execution_count": 69,
   "id": "f76cabcc",
   "metadata": {},
   "outputs": [],
   "source": [
    "# the corresponding documents and class labels to use for classification\n",
    "documents_sentiments = df_text_sentiments[\"Review Text\"]\n",
    "target_names_sentiments = df_text_sentiments[\"Class\"].values"
   ]
  },
  {
   "cell_type": "markdown",
   "id": "0cd12bb4",
   "metadata": {},
   "source": [
    "### Text Analysis - Tokenizing Text and Bag of words representation\n",
    "Tokenization helps in creating tokens for words and also removes unwanted punctuation from the text, as for us in this analysis we don't care if there are any punctuation. But this may not a case for every analysis. "
   ]
  },
  {
   "cell_type": "code",
   "execution_count": 10,
   "id": "742070d0",
   "metadata": {},
   "outputs": [
    {
     "name": "stdout",
     "output_type": "stream",
     "text": [
      "['the', 'herbs', 'were', 'great', 'but', 'the', 'cherry', 'tomatoes', 'not', 'so', 'great', 'the', 'herb', 'kit', 'that', 'came', 'with', 'my', 'aerogarden', 'was', 'superb', 'and', 'enjoyed', 'caring', 'for', 'my', 'little', 'garden', 'once', 'it', 'was', 'time', 'to', 'replace', 'it', 'purchased', 'the', 'cherry', 'tomato', 'seed', 'kit', 'these', 'also', 'grew', 'rapidly', 'but', 'one', 'day', 'noticed', 'that', 'they', 'had', 'completely', 'fallen', 'over', 'how', 'would', 'stake', 'these', 'on', 'an', 'aerogarden', 'and', 'yes', 'the', 'lights', 'were', 'as', 'close', 'to', 'the', 'plants', 'as', 'possible', 'kind', 'of', 'leaned', 'them', 'against', 'each', 'other', 'to', 'keep', 'them', 'upright', 'but', 'they', 'still', 'fell', 'over', 'several', 'times', 'so', 'they', 'grew', 'and', 'grew', 'but', 'never', 'got', 'any', 'tomatoes', 'also', 'did', 'follow', 'the', 'directions', 'to', 'ensure', 'that', 'they', 'had', 'complete', 'darkness', 'for', 'proper', 'flowering', 'fortunately', 'we', 'have', 'several', 'tomato', 'and', 'cherry', 'tomato', 'plants', 'in', 'our', 'outdoor', 'vegetable', 'garden', 'unfortunately', 'spent', '20', 'on', 'cherry', 'tomato', 'aerogarden', 'plants', 'and', 'got', 'zero', 'yield']\n"
     ]
    }
   ],
   "source": [
    "#just to check the types of words which are present in the document\n",
    "doc1= documents_sentiments[0]\n",
    "tokenize = CountVectorizer().build_tokenizer()\n",
    "# convert to lowercase, then tokenize\n",
    "tokens1 = tokenize(doc1.lower())\n",
    "print(tokens1)"
   ]
  },
  {
   "cell_type": "markdown",
   "id": "9849fd6d",
   "metadata": {},
   "source": [
    "We can see that many of the words here are not useful (e.g. \"to\", \"the\" etc.). So we remove such words using a list of such *stop words* which is provided by scikit-learn:"
   ]
  },
  {
   "cell_type": "code",
   "execution_count": 11,
   "id": "031bb81e",
   "metadata": {},
   "outputs": [],
   "source": [
    "#defining stop words\n",
    "stopwords = text.ENGLISH_STOP_WORDS"
   ]
  },
  {
   "cell_type": "markdown",
   "id": "505dad71",
   "metadata": {},
   "source": [
    "But now before tokenizing the docucment again, we will filter the document as there are many words like \"ha\", \"te\", which are really not useful, so we remove these words by checking the lenght of words and words having lenght less than 2 have been removed, we have also observed that there are unwanted numbers which we have removed by using re.sub by passing a regex."
   ]
  },
  {
   "cell_type": "code",
   "execution_count": 12,
   "id": "dc798b9b",
   "metadata": {},
   "outputs": [],
   "source": [
    "#definition to filter documents.\n",
    "def filter_doc(doc):\n",
    "    filtered_document=[]\n",
    "    for sen in range(0, len(doc)):\n",
    "        #removing numbers, words with any numbers and extra spaces.\n",
    "        document= re.sub(r'[0-9]+', ' ',doc[sen])\n",
    "        document = re.sub(r'\\s+', ' ', document, flags=re.I)\n",
    "        # Converting to Lowercase\n",
    "        document = document.lower()  \n",
    "        document = document.split()\n",
    "        #removing words less than 2 letters.\n",
    "        document = ' '.join([w for w in document if len(w)>2])\n",
    "        filtered_document.append(document)\n",
    "    print(\"Created %d filtered document lists\" % len(filtered_document) )\n",
    "    return filtered_document"
   ]
  },
  {
   "cell_type": "markdown",
   "id": "d3103fc8",
   "metadata": {},
   "source": [
    "We now store this document as filtered document, we can use this similar function for part-3 as well."
   ]
  },
  {
   "cell_type": "code",
   "execution_count": 13,
   "id": "335d5aec",
   "metadata": {},
   "outputs": [
    {
     "name": "stdout",
     "output_type": "stream",
     "text": [
      "Created 9244 filtered document lists\n"
     ]
    }
   ],
   "source": [
    "#set of filtered documents\n",
    "filtered_document_senti=filter_doc(documents_sentiments)"
   ]
  },
  {
   "cell_type": "markdown",
   "id": "e85c3f46",
   "metadata": {},
   "source": [
    "Now we tokenize the whole set of documents and store this tokens as filtered tokens."
   ]
  },
  {
   "cell_type": "markdown",
   "id": "03bb304f",
   "metadata": {},
   "source": [
    "### Text Preprocessing and Classification"
   ]
  },
  {
   "cell_type": "markdown",
   "id": "d8b8485f",
   "metadata": {},
   "source": [
    "So firstly, when trying to stem the documents using CountVectorizering the set of documents had a few stop words felt that were not consistent and were not been removed while vectorizing the text, so for this we need to include those stop words into our tokenization process and then remove it later. <br>\n",
    "**CountVectorizer** is used to convert text into a vector based on the frequency or count of each word."
   ]
  },
  {
   "cell_type": "markdown",
   "id": "3b1bcb42",
   "metadata": {},
   "source": [
    "**Stemming**: Stemming is a process to reduce the word its root by removing a part of it, for example, if we have ask, asked and asking it will remove the ending as 'ed' and 'ing' and convert both of them to 'ask'."
   ]
  },
  {
   "cell_type": "code",
   "execution_count": 14,
   "id": "502fdda3",
   "metadata": {},
   "outputs": [],
   "source": [
    "# define the function for stemming\n",
    "def stem_tokenizer(text):\n",
    "    # use the standard scikit-learn tokenizer first\n",
    "    standard_tokenizer = CountVectorizer().build_tokenizer()\n",
    "    #create tokens based on countVectorizer\n",
    "    tokens = standard_tokenizer(text)\n",
    "    # then use NLTK to perform stemming on each token\n",
    "    stemmer = PorterStemmer()\n",
    "    filtered_tokens=[]\n",
    "    for token in tokens:\n",
    "        if re.search('[a-zA-Z]', token):\n",
    "            filtered_tokens.append(token)\n",
    "     # to remove stopwords with tokenization\n",
    "    stems = [stemmer.stem(t) for t in filtered_tokens if t not in stopwords]\n",
    "    return stems"
   ]
  },
  {
   "cell_type": "markdown",
   "id": "81daaa01",
   "metadata": {},
   "source": [
    "### Term Frequency Analysis"
   ]
  },
  {
   "cell_type": "markdown",
   "id": "aa258ec0",
   "metadata": {},
   "source": [
    "We now define our CountVectorize function based on our stem tokenizer we have also removed words with frequency less than 10."
   ]
  },
  {
   "cell_type": "markdown",
   "id": "212b9190",
   "metadata": {},
   "source": [
    "We also create a vectorize data data set for term frequency analysis and this can be used futher for applying ***cross validation*** as well"
   ]
  },
  {
   "cell_type": "code",
   "execution_count": 15,
   "id": "6e0b6932",
   "metadata": {},
   "outputs": [
    {
     "name": "stdout",
     "output_type": "stream",
     "text": [
      "(9244, 4161)\n"
     ]
    }
   ],
   "source": [
    "#vectorize the filetered documents\n",
    "vectorizer_senti = CountVectorizer(stop_words=\"english\", min_df = 10, tokenizer=stem_tokenizer)\n",
    "X_data_senti = vectorizer_senti.fit_transform(filtered_document_senti)\n",
    "print(X_data_senti.shape)"
   ]
  },
  {
   "cell_type": "code",
   "execution_count": 16,
   "id": "fe8878c6",
   "metadata": {},
   "outputs": [
    {
     "name": "stdout",
     "output_type": "stream",
     "text": [
      "Vocabulary has 4161 distinct terms\n"
     ]
    }
   ],
   "source": [
    "#Count the terms in vectoried document\n",
    "terms_senti = vectorizer_senti.get_feature_names()\n",
    "print(\"Vocabulary has %d distinct terms\" % len(terms_senti))"
   ]
  },
  {
   "cell_type": "markdown",
   "id": "ab1289c3",
   "metadata": {},
   "source": [
    "### Measuring Similarity"
   ]
  },
  {
   "cell_type": "markdown",
   "id": "dd9cd78a",
   "metadata": {},
   "source": [
    "We can now measure the similarity of document, as part of test analysis, using finding the cosine angle between two documents."
   ]
  },
  {
   "cell_type": "code",
   "execution_count": 17,
   "id": "22371948",
   "metadata": {},
   "outputs": [
    {
     "name": "stdout",
     "output_type": "stream",
     "text": [
      "the herbs were great...but the cherry tomatoes...not great the herb kit that came with aerogarden was superb and enjoyed caring for little garden. once was time replace it, purchased the cherry tomato seed kit. these also grew rapidly, but one day noticed that they had completely fallen over...how would stake these aerogarden? and yes, the lights were close the plants possible. kind leaned them against each other keep them upright. but they still fell over several times. they grew and grew but never got any tomatoes. also did follow the directions ensure that they had complete darkness for proper flowering. fortunately have several tomato and cherry tomato plants our outdoor vegetable garden. unfortunately, spent cherry tomato aerogarden plants and got zero yield.\n"
     ]
    }
   ],
   "source": [
    "# first document - just display the start of it\n",
    "print(filtered_document_senti[0])"
   ]
  },
  {
   "cell_type": "markdown",
   "id": "3b95d23a",
   "metadata": {},
   "source": [
    "We will have to vectorize our document to filter out the unwanted words and then and then measure the similarity based on those vectorized documents."
   ]
  },
  {
   "cell_type": "code",
   "execution_count": 18,
   "id": "413a03c2",
   "metadata": {},
   "outputs": [],
   "source": [
    "# measure the cosine similarity between the first document vector and all of the other document vectors\n",
    "max_cos = 0\n",
    "best_row = 0\n",
    "for row in range(1,X_data_senti.shape[0]):\n",
    "    cos = cosine_similarity(X_data_senti[0], X_data_senti[row])\n",
    "    # best so far?\n",
    "    if cos > max_cos:\n",
    "        max_cos = cos\n",
    "        best_row = row"
   ]
  },
  {
   "cell_type": "code",
   "execution_count": 19,
   "id": "0dd06693",
   "metadata": {},
   "outputs": [
    {
     "name": "stdout",
     "output_type": "stream",
     "text": [
      "Most similar document was row 24: cosine similarity = 0.528\n"
     ]
    }
   ],
   "source": [
    "print(\"Most similar document was row %d: cosine similarity = %.3f\" % (best_row, max_cos) )"
   ]
  },
  {
   "cell_type": "code",
   "execution_count": 20,
   "id": "1a66340f",
   "metadata": {},
   "outputs": [
    {
     "name": "stdout",
     "output_type": "stream",
     "text": [
      "looks like cherry tomato reviews are negative working second cherry tomato seed kit. after about three months, the first crop provided about eight cherry tomatoes. hardly bumper crop. during the growth had clean out the pump which got clogged with roots (more that latter). figured, ok, had disturb the root system when had clean out the pump, perhaps that was the problem. started second crop cherry tomatoes about three months ago. far, have had one marble sized yellow tomato. also have additional two, marble sized, yellow tomatoes ripening. have not even seen any flowers the two red tomato plants. the red tomato plants grow, but tomato production. running out plant nutrients. checked aerogrows site, and they want ridiculous price for additional package plant nutrients. corporate greed its worse. have read all the reviews, and see that about one-third the cherry tomato reviews are positive. that leaves two-thirds cherry tomato reviews negative. adding negative cherry tomato review drops the positive cherry tomato reviews positive, negative. given that are all growing these things under pretty well controlled conditions, suggest that the cherry tomato seed kits might have limited shelf life, and aerogrow could selling their old kits. negative review aerogrow's cherry tomato seed kit their site was not published. published review superstore. with respect the aerogrow garden, opinion, the location the pump flawed. should not located the bottom the tank because that where the roots want go. the pump should located higher the tank, and should located position where can easily maintained, without damaging your crops. hope someone else comes out with competitive product. frankly, don't like the way aerogrow does business.\n"
     ]
    }
   ],
   "source": [
    "# most similar document - just display the start of it\n",
    "print(filtered_document_senti[best_row])"
   ]
  },
  {
   "cell_type": "markdown",
   "id": "911423ff",
   "metadata": {},
   "source": [
    "### Train and Test Data Creation"
   ]
  },
  {
   "cell_type": "markdown",
   "id": "a6962dd0",
   "metadata": {},
   "source": [
    "We now create training data and testing data, using train_test_split function with a **train-test split as 20%**"
   ]
  },
  {
   "cell_type": "code",
   "execution_count": 21,
   "id": "81057327",
   "metadata": {},
   "outputs": [],
   "source": [
    "#train-test split\n",
    "train_data_senti, test_data_senti, train_target_senti, test_target_senti = train_test_split(filtered_document_senti, \n",
    "                                                                                            target_names_sentiments, \n",
    "                                                                                            test_size=0.2)"
   ]
  },
  {
   "cell_type": "code",
   "execution_count": 22,
   "id": "d64c280a",
   "metadata": {
    "scrolled": true
   },
   "outputs": [
    {
     "name": "stdout",
     "output_type": "stream",
     "text": [
      "Training set has 7395 documents. Target classes are {'Postive', 'Negative'}\n"
     ]
    }
   ],
   "source": [
    "print(\"Training set has %d documents. Target classes are %s\" % (len(train_data_senti), set(train_target_senti)))"
   ]
  },
  {
   "cell_type": "code",
   "execution_count": 23,
   "id": "08e3eb2e",
   "metadata": {},
   "outputs": [
    {
     "name": "stdout",
     "output_type": "stream",
     "text": [
      "Test set has 1849 documents. Target classes are {'Postive', 'Negative'}\n"
     ]
    }
   ],
   "source": [
    "print(\"Test set has %d documents. Target classes are %s\" % (len(test_data_senti), set(test_target_senti)))"
   ]
  },
  {
   "cell_type": "markdown",
   "id": "23b1e731",
   "metadata": {},
   "source": [
    "### Train and Test Data Vectorization"
   ]
  },
  {
   "cell_type": "markdown",
   "id": "072db458",
   "metadata": {},
   "source": [
    "We now vectorize the training and the test data set as CountVectorization"
   ]
  },
  {
   "cell_type": "code",
   "execution_count": 24,
   "id": "d3b3d491",
   "metadata": {},
   "outputs": [
    {
     "name": "stdout",
     "output_type": "stream",
     "text": [
      "(7395, 3694)\n"
     ]
    }
   ],
   "source": [
    "#vectorize training data\n",
    "X_train_senti = vectorizer_senti.fit_transform(train_data_senti)\n",
    "print(X_train_senti.shape)"
   ]
  },
  {
   "cell_type": "code",
   "execution_count": 25,
   "id": "1ee38690",
   "metadata": {},
   "outputs": [
    {
     "name": "stdout",
     "output_type": "stream",
     "text": [
      "['popcorn', 'perfect', 'littl', 'year', 'old', 'son', 'love', 'concern', 'hull', 'potenti', 'choke', 'hazard', 'true', 'free', 'come', 'close', 'tast', 'great', 'opinion', 'kid', 'friendli', 'brand', 'use', 'machin', 'home', 'miss', 'flour', 'lot', 'dens', 'heavier', 'expect', 'make', 'difficult', 'bake', 'decent']\n"
     ]
    }
   ],
   "source": [
    "print(list(vectorizer_senti.vocabulary_.keys())[0:35])"
   ]
  },
  {
   "cell_type": "markdown",
   "id": "567dc841",
   "metadata": {},
   "source": [
    "For test data we just perform transform to keep the same number of columns of words"
   ]
  },
  {
   "cell_type": "code",
   "execution_count": 26,
   "id": "9ebc6675",
   "metadata": {},
   "outputs": [
    {
     "name": "stdout",
     "output_type": "stream",
     "text": [
      "(1849, 3694)\n"
     ]
    }
   ],
   "source": [
    "#vectorize testing data\n",
    "X_test_senti = vectorizer_senti.transform(test_data_senti)\n",
    "print(X_test_senti.shape)"
   ]
  },
  {
   "cell_type": "markdown",
   "id": "1f990c62",
   "metadata": {},
   "source": [
    "### Cross Validation CV=5\n",
    "<br>So firstly, we will apply a cross-validation technique using KNN, which can help us analyze which value of K might be better to take into consideration."
   ]
  },
  {
   "cell_type": "code",
   "execution_count": 27,
   "id": "6dd2d50f",
   "metadata": {},
   "outputs": [
    {
     "name": "stdout",
     "output_type": "stream",
     "text": [
      "K=1 - Mean accuracy=0.744\n",
      "K=3 - Mean accuracy=0.730\n",
      "K=5 - Mean accuracy=0.723\n"
     ]
    }
   ],
   "source": [
    "#cross validation for KNN\n",
    "for k in [1,3,5]:\n",
    "    model = KNeighborsClassifier(n_neighbors=k)\n",
    "    # apply 5-fold cross-validation, measuring accuracy each time\n",
    "    acc_scores = cross_val_score(model, X_data_senti, target_names_sentiments, cv=5, scoring=\"accuracy\")\n",
    "    # get the mean accuracy across 5 folds\n",
    "    mean_acc = acc_scores.mean()\n",
    "    print(\"K=%d - Mean accuracy=%.3f\" % (k,mean_acc) )"
   ]
  },
  {
   "cell_type": "markdown",
   "id": "092554ac",
   "metadata": {},
   "source": [
    "### KNN=3 using Hold-out Startergy\n",
    "We will now build KNN using K= 3, as K = 1 is not ideal and K=5 has less accuracy and calculate the accuracy and other methods of accuracy for this model."
   ]
  },
  {
   "cell_type": "code",
   "execution_count": 28,
   "id": "b8a838d0",
   "metadata": {},
   "outputs": [
    {
     "data": {
      "text/plain": [
       "KNeighborsClassifier(n_neighbors=3)"
      ]
     },
     "execution_count": 28,
     "metadata": {},
     "output_type": "execute_result"
    }
   ],
   "source": [
    "# build a KNN model on the document-term matrix created from the original set of documents\n",
    "model_KNN_senti = KNeighborsClassifier(n_neighbors=3)\n",
    "model_KNN_senti.fit(X_train_senti, train_target_senti)"
   ]
  },
  {
   "cell_type": "code",
   "execution_count": 29,
   "id": "e7109b47",
   "metadata": {},
   "outputs": [],
   "source": [
    "#Predicted KNN class values\n",
    "predicted_Senti_KNN = model_KNN_senti.predict(X_test_senti)"
   ]
  },
  {
   "cell_type": "code",
   "execution_count": 30,
   "id": "97d0e80f",
   "metadata": {},
   "outputs": [
    {
     "name": "stdout",
     "output_type": "stream",
     "text": [
      "Classification accuracy = 0.735\n"
     ]
    }
   ],
   "source": [
    "#Accuracy for KNN\n",
    "acc_KNN = accuracy_score(test_target_senti, predicted_Senti_KNN)\n",
    "print(\"Classification accuracy = %.3f\" % acc_KNN)"
   ]
  },
  {
   "cell_type": "code",
   "execution_count": 31,
   "id": "f3d0718b",
   "metadata": {},
   "outputs": [],
   "source": [
    "#setting target categories\n",
    "target_categories_senti = [\"Positive\",\"Negative\"]"
   ]
  },
  {
   "cell_type": "code",
   "execution_count": 32,
   "id": "6f67c7be",
   "metadata": {},
   "outputs": [
    {
     "name": "stdout",
     "output_type": "stream",
     "text": [
      "              precision    recall  f1-score   support\n",
      "\n",
      "    Positive       0.60      0.74      0.66       657\n",
      "    Negative       0.83      0.73      0.78      1192\n",
      "\n",
      "    accuracy                           0.73      1849\n",
      "   macro avg       0.72      0.74      0.72      1849\n",
      "weighted avg       0.75      0.73      0.74      1849\n",
      "\n"
     ]
    }
   ],
   "source": [
    "#prints classification report with all the accuracy metrics\n",
    "print(classification_report(test_target_senti, predicted_Senti_KNN, target_names=target_categories_senti))"
   ]
  },
  {
   "cell_type": "markdown",
   "id": "b1995403",
   "metadata": {},
   "source": [
    "**Comment:** We can see that the **accuracy is 73.5%** for KNN=3, while we can see that the **precision is less for positive class**, which means the model had difficulty predicting positive class, maybe because the **number of positives must be less than negatives**. While the recall is quite similar for both the classes stating the model was able to cover these classes properly."
   ]
  },
  {
   "cell_type": "markdown",
   "id": "f44ee311",
   "metadata": {},
   "source": [
    "This being a binary classifier, Precision and Recall plays an important role where,<br>\n",
    "1. **Precision** is the number of correct positive outcomes divided by the classifier's predicted number of positive results.\n",
    "2. **Recall** is calculated by dividing the number of valid positive results by the total number of relevant observations."
   ]
  },
  {
   "cell_type": "code",
   "execution_count": 33,
   "id": "9c2cde4d",
   "metadata": {},
   "outputs": [
    {
     "data": {
      "image/png": "[encoded data removed]",
      "text/plain": [
       "<Figure size 432x288 with 2 Axes>"
      ]
     },
     "metadata": {
      "needs_background": "light"
     },
     "output_type": "display_data"
    }
   ],
   "source": [
    "# calculate the confusion matrix\n",
    "cm_KNN = confusion_matrix(test_target_senti, predicted_Senti_KNN)\n",
    "# display it graphically\n",
    "cmd = ConfusionMatrixDisplay(cm_KNN, display_labels=target_categories_senti)\n",
    "cmd.plot();"
   ]
  },
  {
   "cell_type": "markdown",
   "id": "ac30de77",
   "metadata": {},
   "source": [
    "**Comment:** As the precision was low for the positive class we can see from the confusion matrix that higher number positives were predicted as negatives. The model works good for negative classes but not great for the positive class."
   ]
  },
  {
   "cell_type": "markdown",
   "id": "141b7412",
   "metadata": {},
   "source": [
    "### Cross Validation CV=10"
   ]
  },
  {
   "cell_type": "markdown",
   "id": "74db08d4",
   "metadata": {},
   "source": [
    "As we can see that the accuracy comes out to be similar, for K=3 for cross-validation and normal KNN. We can also check that if we increase the folds of the cross validation how our model would work."
   ]
  },
  {
   "cell_type": "code",
   "execution_count": 34,
   "id": "5b0a4231",
   "metadata": {},
   "outputs": [
    {
     "name": "stdout",
     "output_type": "stream",
     "text": [
      "K=1 - Mean accuracy=0.754\n",
      "K=3 - Mean accuracy=0.737\n",
      "K=5 - Mean accuracy=0.731\n"
     ]
    }
   ],
   "source": [
    "#cross validation using KNN\n",
    "for k in [1,3,5]:\n",
    "    model = KNeighborsClassifier(n_neighbors=k)\n",
    "    # apply 10-fold cross-validation, measuring accuracy each time\n",
    "    acc_scores = cross_val_score(model, X_data_senti, target_names_sentiments, cv=10, scoring=\"accuracy\")\n",
    "    # get the mean accuracy across 5 folds\n",
    "    mean_acc = acc_scores.mean()\n",
    "    print(\"K=%d - Mean accuracy=%.3f\" % (k,mean_acc) )"
   ]
  },
  {
   "cell_type": "markdown",
   "id": "48caa37a",
   "metadata": {},
   "source": [
    "**Comment:** This increases the accuracy but not to that extent so it is better to use 5 folds as using a high number of folds is time-consuming, but if we have large datasets we should try checking 10-cross-fold validation"
   ]
  },
  {
   "cell_type": "markdown",
   "id": "6b060245",
   "metadata": {},
   "source": [
    "### Pipeline Classification using SVM<br>\n",
    "Pipeline helps in doing every step together, like data preperation(tokenization) and classification. So below we created a pipeline using SVM classifier and the tokenizer we defined above."
   ]
  },
  {
   "cell_type": "code",
   "execution_count": 35,
   "id": "edebbbd1",
   "metadata": {},
   "outputs": [],
   "source": [
    "#SVM pipeline model\n",
    "pipeline_svm_senti = Pipeline([\n",
    "    ('vec', CountVectorizer(stop_words=\"english\", min_df = 10, tokenizer=stem_tokenizer)),\n",
    "    ('tfidf', TfidfTransformer()),\n",
    "    ('clf', SGDClassifier())\n",
    "])"
   ]
  },
  {
   "cell_type": "code",
   "execution_count": 36,
   "id": "56f96ff1",
   "metadata": {},
   "outputs": [
    {
     "data": {
      "text/plain": [
       "Pipeline(steps=[('vec',\n",
       "                 CountVectorizer(min_df=10, stop_words='english',\n",
       "                                 tokenizer=<function stem_tokenizer at 0x000001C802E0C9D0>)),\n",
       "                ('tfidf', TfidfTransformer()), ('clf', SGDClassifier())])"
      ]
     },
     "execution_count": 36,
     "metadata": {},
     "output_type": "execute_result"
    }
   ],
   "source": [
    "#fit SVM model\n",
    "pipeline_svm_senti.fit(train_data_senti, train_target_senti)"
   ]
  },
  {
   "cell_type": "code",
   "execution_count": 37,
   "id": "fcfdd728",
   "metadata": {},
   "outputs": [
    {
     "name": "stdout",
     "output_type": "stream",
     "text": [
      "Classification accuracy = 0.884\n"
     ]
    }
   ],
   "source": [
    "#predict target class\n",
    "predicted_SVM_Senti = pipeline_svm_senti.predict(test_data_senti)\n",
    "print(\"Classification accuracy = %.3f\" % accuracy_score(test_target_senti, predicted_SVM_Senti))"
   ]
  },
  {
   "cell_type": "code",
   "execution_count": 38,
   "id": "e652f11a",
   "metadata": {},
   "outputs": [
    {
     "name": "stdout",
     "output_type": "stream",
     "text": [
      "              precision    recall  f1-score   support\n",
      "\n",
      "    Positive       0.86      0.81      0.83       657\n",
      "    Negative       0.90      0.92      0.91      1192\n",
      "\n",
      "    accuracy                           0.88      1849\n",
      "   macro avg       0.88      0.87      0.87      1849\n",
      "weighted avg       0.88      0.88      0.88      1849\n",
      "\n"
     ]
    }
   ],
   "source": [
    "#prints classification report with all the accuracy metrics\n",
    "print(classification_report(test_target_senti, predicted_SVM_Senti, target_names=target_categories_senti))"
   ]
  },
  {
   "cell_type": "code",
   "execution_count": 39,
   "id": "1e8178f6",
   "metadata": {},
   "outputs": [
    {
     "data": {
      "image/png": "[encoded data removed]",
      "text/plain": [
       "<Figure size 432x288 with 2 Axes>"
      ]
     },
     "metadata": {
      "needs_background": "light"
     },
     "output_type": "display_data"
    }
   ],
   "source": [
    "# calculate the confusion matrix\n",
    "cm_SVM = confusion_matrix(test_target_senti, predicted_SVM_Senti)\n",
    "# display it graphically\n",
    "cmd = ConfusionMatrixDisplay(cm_SVM, display_labels=target_categories_senti)\n",
    "cmd.plot();"
   ]
  },
  {
   "cell_type": "markdown",
   "id": "6a52de59",
   "metadata": {},
   "source": [
    "**Comment:** SVM showed high accuracy when compared to KNN because, it defines the best boundary to separate the class, which enhances itself as a model when compared to others, as we can see that the wrongly classified classes are less in SVM as compared to KNN and precision and recall is also great. "
   ]
  },
  {
   "cell_type": "markdown",
   "id": "fe068f0f",
   "metadata": {},
   "source": [
    "## Part 3-  Review Helpfulness Classification "
   ]
  },
  {
   "cell_type": "markdown",
   "id": "33067000",
   "metadata": {},
   "source": [
    "In part of the assignment we will try to work with Helpfulness classification using similar analysis and change if we think we would need some better methods."
   ]
  },
  {
   "cell_type": "markdown",
   "id": "a4748717",
   "metadata": {},
   "source": [
    "So, first, we define a function to assign the helpfulness value, for this I assumed if the percentage of helpfulness information is more than 60% then that review is considered helpful. This percentage was sent will collection data itself."
   ]
  },
  {
   "cell_type": "code",
   "execution_count": 40,
   "id": "77799e87",
   "metadata": {},
   "outputs": [],
   "source": [
    "#function to assign helpfulness\n",
    "def assign_helpfulness(df):\n",
    "    Helpfulness = []\n",
    "    for row in df[\"Helpfulness Information\"]:\n",
    "        if row < 60: Helpfulness.append(\"Not Helpful\")\n",
    "        else: Helpfulness.append(\"Helpful\")\n",
    "    df['Helpfulness'] = Helpfulness\n",
    "    return df"
   ]
  },
  {
   "cell_type": "code",
   "execution_count": 41,
   "id": "1269e774",
   "metadata": {},
   "outputs": [],
   "source": [
    "#store this data frame as new dataframe for analysis\n",
    "df_reviews_helpfullness= assign_helpfulness(dataframe_reviews)"
   ]
  },
  {
   "cell_type": "code",
   "execution_count": 42,
   "id": "4de938fa",
   "metadata": {},
   "outputs": [
    {
     "data": {
      "text/html": [
       "<div>\n",
       "<style scoped>\n",
       "    .dataframe tbody tr th:only-of-type {\n",
       "        vertical-align: middle;\n",
       "    }\n",
       "\n",
       "    .dataframe tbody tr th {\n",
       "        vertical-align: top;\n",
       "    }\n",
       "\n",
       "    .dataframe thead th {\n",
       "        text-align: right;\n",
       "    }\n",
       "</style>\n",
       "<table border=\"1\" class=\"dataframe\">\n",
       "  <thead>\n",
       "    <tr style=\"text-align: right;\">\n",
       "      <th></th>\n",
       "      <th>Main Title</th>\n",
       "      <th>Review Title</th>\n",
       "      <th>Rating</th>\n",
       "      <th>Helpfulness Information</th>\n",
       "      <th>Review Body</th>\n",
       "      <th>Sentiments</th>\n",
       "      <th>Helpfulness</th>\n",
       "    </tr>\n",
       "  </thead>\n",
       "  <tbody>\n",
       "    <tr>\n",
       "      <th>0</th>\n",
       "      <td>Product Reviews Archive January 2016</td>\n",
       "      <td>The herbs were great...but the cherry tomatoes...</td>\n",
       "      <td>2</td>\n",
       "      <td>88.235294</td>\n",
       "      <td>The herb kit that came with my Aerogarden was ...</td>\n",
       "      <td>Negative</td>\n",
       "      <td>Helpful</td>\n",
       "    </tr>\n",
       "    <tr>\n",
       "      <th>1</th>\n",
       "      <td>Product Reviews Archive January 2016</td>\n",
       "      <td>Even more useful than regular parchment paper</td>\n",
       "      <td>5</td>\n",
       "      <td>100.000000</td>\n",
       "      <td>I originally bought this just because it was c...</td>\n",
       "      <td>Postive</td>\n",
       "      <td>Helpful</td>\n",
       "    </tr>\n",
       "    <tr>\n",
       "      <th>2</th>\n",
       "      <td>Product Reviews Archive January 2016</td>\n",
       "      <td>Shake it before you bake it</td>\n",
       "      <td>2</td>\n",
       "      <td>15.384615</td>\n",
       "      <td>If you do it in reverse (bake before shaking),...</td>\n",
       "      <td>Negative</td>\n",
       "      <td>Not Helpful</td>\n",
       "    </tr>\n",
       "    <tr>\n",
       "      <th>3</th>\n",
       "      <td>Product Reviews Archive January 2016</td>\n",
       "      <td>Not what the picture describes</td>\n",
       "      <td>2</td>\n",
       "      <td>50.000000</td>\n",
       "      <td>I bought this steak for my father in law for C...</td>\n",
       "      <td>Negative</td>\n",
       "      <td>Not Helpful</td>\n",
       "    </tr>\n",
       "  </tbody>\n",
       "</table>\n",
       "</div>"
      ],
      "text/plain": [
       "                             Main Title  \\\n",
       "0  Product Reviews Archive January 2016   \n",
       "1  Product Reviews Archive January 2016   \n",
       "2  Product Reviews Archive January 2016   \n",
       "3  Product Reviews Archive January 2016   \n",
       "\n",
       "                                        Review Title  Rating  \\\n",
       "0  The herbs were great...but the cherry tomatoes...       2   \n",
       "1      Even more useful than regular parchment paper       5   \n",
       "2                        Shake it before you bake it       2   \n",
       "3                     Not what the picture describes       2   \n",
       "\n",
       "   Helpfulness Information                                        Review Body  \\\n",
       "0                88.235294  The herb kit that came with my Aerogarden was ...   \n",
       "1               100.000000  I originally bought this just because it was c...   \n",
       "2                15.384615  If you do it in reverse (bake before shaking),...   \n",
       "3                50.000000  I bought this steak for my father in law for C...   \n",
       "\n",
       "  Sentiments  Helpfulness  \n",
       "0   Negative      Helpful  \n",
       "1    Postive      Helpful  \n",
       "2   Negative  Not Helpful  \n",
       "3   Negative  Not Helpful  "
      ]
     },
     "execution_count": 42,
     "metadata": {},
     "output_type": "execute_result"
    }
   ],
   "source": [
    "df_reviews_helpfullness[0:4]"
   ]
  },
  {
   "cell_type": "markdown",
   "id": "d3c7e39f",
   "metadata": {},
   "source": [
    "Now we create the same kind of document array with the concatenation of review body and text alongside the Helpfulness class."
   ]
  },
  {
   "cell_type": "code",
   "execution_count": 43,
   "id": "78036f28",
   "metadata": {},
   "outputs": [
    {
     "data": {
      "text/html": [
       "<div>\n",
       "<style scoped>\n",
       "    .dataframe tbody tr th:only-of-type {\n",
       "        vertical-align: middle;\n",
       "    }\n",
       "\n",
       "    .dataframe tbody tr th {\n",
       "        vertical-align: top;\n",
       "    }\n",
       "\n",
       "    .dataframe thead th {\n",
       "        text-align: right;\n",
       "    }\n",
       "</style>\n",
       "<table border=\"1\" class=\"dataframe\">\n",
       "  <thead>\n",
       "    <tr style=\"text-align: right;\">\n",
       "      <th></th>\n",
       "      <th>Review Text</th>\n",
       "      <th>Class</th>\n",
       "    </tr>\n",
       "  </thead>\n",
       "  <tbody>\n",
       "    <tr>\n",
       "      <th>0</th>\n",
       "      <td>The herbs were great...but the cherry tomatoes...</td>\n",
       "      <td>Helpful</td>\n",
       "    </tr>\n",
       "    <tr>\n",
       "      <th>1</th>\n",
       "      <td>Even more useful than regular parchment paper ...</td>\n",
       "      <td>Helpful</td>\n",
       "    </tr>\n",
       "    <tr>\n",
       "      <th>2</th>\n",
       "      <td>Shake it before you bake it If you do it in re...</td>\n",
       "      <td>Not Helpful</td>\n",
       "    </tr>\n",
       "    <tr>\n",
       "      <th>3</th>\n",
       "      <td>Not what the picture describes I bought this s...</td>\n",
       "      <td>Not Helpful</td>\n",
       "    </tr>\n",
       "  </tbody>\n",
       "</table>\n",
       "</div>"
      ],
      "text/plain": [
       "                                         Review Text        Class\n",
       "0  The herbs were great...but the cherry tomatoes...      Helpful\n",
       "1  Even more useful than regular parchment paper ...      Helpful\n",
       "2  Shake it before you bake it If you do it in re...  Not Helpful\n",
       "3  Not what the picture describes I bought this s...  Not Helpful"
      ]
     },
     "execution_count": 43,
     "metadata": {},
     "output_type": "execute_result"
    }
   ],
   "source": [
    "df_text_helpfulness = pd.DataFrame({\"Review Text\": df_reviews_sentiments[\"Review Title\"]+\" \"+df_reviews_sentiments[\"Review Body\"]\n",
    "                            ,\"Class\":df_reviews_sentiments[\"Helpfulness\"]})\n",
    "df_text_helpfulness[0:4]"
   ]
  },
  {
   "cell_type": "markdown",
   "id": "5a66d8e0",
   "metadata": {},
   "source": [
    "Now we create a list of documents to vectorize further."
   ]
  },
  {
   "cell_type": "code",
   "execution_count": 44,
   "id": "85f5aa74",
   "metadata": {},
   "outputs": [],
   "source": [
    "documents_helpfulness = df_text_helpfulness[\"Review Text\"]\n",
    "# the corresponding class labels to use for training\n",
    "target_names_help = df_text_helpfulness[\"Class\"].values"
   ]
  },
  {
   "cell_type": "markdown",
   "id": "5529a1e1",
   "metadata": {},
   "source": [
    "Using the same function for sentiment analysis we clean our document and filter out the unnecessary words, this is similar to what we are getting for sentiment analysis but we are just giving it a different name for easy use."
   ]
  },
  {
   "cell_type": "code",
   "execution_count": 45,
   "id": "ef593d90",
   "metadata": {},
   "outputs": [
    {
     "name": "stdout",
     "output_type": "stream",
     "text": [
      "Created 9244 filtered document lists\n"
     ]
    }
   ],
   "source": [
    "#fitered documents.\n",
    "filtered_help_doc= filter_doc(documents_helpfulness)"
   ]
  },
  {
   "cell_type": "markdown",
   "id": "e81a75b6",
   "metadata": {},
   "source": [
    "Hence we don't need to check the tokenization, token counts and term frequency for the same document."
   ]
  },
  {
   "cell_type": "markdown",
   "id": "08bda66d",
   "metadata": {},
   "source": [
    "For helpfulness analysis, we have used lemmatization as a token technique using TfidfVectorizer vectorization converts which text to feature vectors."
   ]
  },
  {
   "cell_type": "markdown",
   "id": "67302c0c",
   "metadata": {},
   "source": [
    "**Lemming:** Lemming means performing things correctly with the help of a vocabulary and canonical evaluation of words."
   ]
  },
  {
   "cell_type": "code",
   "execution_count": 46,
   "id": "5f8ab0a2",
   "metadata": {},
   "outputs": [],
   "source": [
    "# define the function for lemming\n",
    "def lemma_tokenizer(text):\n",
    "    # use the standard scikit-learn tokenizer first\n",
    "    standard_tokenizer = TfidfVectorizer().build_tokenizer()\n",
    "    tokens = standard_tokenizer(text)\n",
    "    # then use NLTK to perform lemmatisation on each token\n",
    "    lemmatizer = WordNetLemmatizer()\n",
    "    filtered_tokens=[]\n",
    "    for token in tokens:\n",
    "        if re.search('[a-zA-Z]', token):\n",
    "            filtered_tokens.append(token)\n",
    "    lemma_tokens = [lemmatizer.lemmatize(t) for t in filtered_tokens if t not in stopwords]\n",
    "    return lemma_tokens"
   ]
  },
  {
   "cell_type": "markdown",
   "id": "03c31504",
   "metadata": {},
   "source": [
    "### Term Frequency Analysis"
   ]
  },
  {
   "cell_type": "markdown",
   "id": "fa3b87b0",
   "metadata": {},
   "source": [
    "We now define our CountVectorize function based on the tokenizer we created while removing words with a frequency less than 10, we can do higher as well because our general frequency of words is quite high, but to be on the safe side I decided to keep the min_df as 10."
   ]
  },
  {
   "cell_type": "markdown",
   "id": "3997fb17",
   "metadata": {},
   "source": [
    "We also create a vectorized data data set for term frequency analysis and this can be used further for applying ***cross-validation*** as well"
   ]
  },
  {
   "cell_type": "code",
   "execution_count": 47,
   "id": "9c98f796",
   "metadata": {},
   "outputs": [
    {
     "name": "stdout",
     "output_type": "stream",
     "text": [
      "(9244, 5030)\n"
     ]
    }
   ],
   "source": [
    "#Vectorization using tfidfvectorization\n",
    "vectorizer_help = TfidfVectorizer(stop_words=\"english\", min_df = 10, tokenizer=lemma_tokenizer)\n",
    "X_data_help = vectorizer_help.fit_transform(filtered_document_senti)\n",
    "print(X_data_help.shape)"
   ]
  },
  {
   "cell_type": "code",
   "execution_count": 48,
   "id": "3bbd708c",
   "metadata": {},
   "outputs": [
    {
     "name": "stdout",
     "output_type": "stream",
     "text": [
      "Vocabulary has 5030 distinct terms\n"
     ]
    }
   ],
   "source": [
    "#count the terms\n",
    "terms_senti = vectorizer_help.get_feature_names()\n",
    "print(\"Vocabulary has %d distinct terms\" % len(terms_senti))"
   ]
  },
  {
   "cell_type": "markdown",
   "id": "dac82b71",
   "metadata": {},
   "source": [
    "**CountVectorizer and TfidfVectorizer comparison**: As CountVectorizer removes the word based on word count while TfidfVectorizer removes it based on vocabulary, we can see a difference in the word count, it is better to use TfidfVectorizer as it keeps the more sensible words."
   ]
  },
  {
   "cell_type": "markdown",
   "id": "d45f51e0",
   "metadata": {},
   "source": [
    "### Train and Test Data Creation<br>\n",
    "Now here we create train and test sets with a split of **30%**"
   ]
  },
  {
   "cell_type": "code",
   "execution_count": 49,
   "id": "41ebfb32",
   "metadata": {},
   "outputs": [],
   "source": [
    "#train-test split\n",
    "train_data_help, test_data_help, train_target_help, test_target_help = train_test_split(filtered_help_doc, target_names_help, test_size=0.3)"
   ]
  },
  {
   "cell_type": "markdown",
   "id": "4a6b85c8",
   "metadata": {},
   "source": [
    "### Train and Test Data Vectorization"
   ]
  },
  {
   "cell_type": "code",
   "execution_count": 50,
   "id": "7e96e3c5",
   "metadata": {},
   "outputs": [
    {
     "name": "stdout",
     "output_type": "stream",
     "text": [
      "(6470, 4109)\n"
     ]
    }
   ],
   "source": [
    "#vectorize training data\n",
    "X_train_help = vectorizer_help.fit_transform(train_data_help)\n",
    "print(X_train_help.shape)"
   ]
  },
  {
   "cell_type": "code",
   "execution_count": 51,
   "id": "b69083bb",
   "metadata": {},
   "outputs": [
    {
     "name": "stdout",
     "output_type": "stream",
     "text": [
      "(2774, 4109)\n"
     ]
    }
   ],
   "source": [
    "#vectorize testing data\n",
    "X_test_help = vectorizer_help.transform(test_data_help)\n",
    "print(X_test_help.shape)"
   ]
  },
  {
   "cell_type": "markdown",
   "id": "a481cf70",
   "metadata": {},
   "source": [
    "We create a vectorized set of documents for the whole filtered document set for cross validation"
   ]
  },
  {
   "cell_type": "code",
   "execution_count": 52,
   "id": "3c91475d",
   "metadata": {},
   "outputs": [
    {
     "name": "stdout",
     "output_type": "stream",
     "text": [
      "(9244, 5030)\n"
     ]
    }
   ],
   "source": [
    "#vectorize whole data set\n",
    "X_data_help = vectorizer_help.fit_transform(filtered_help_doc)\n",
    "print(X_data_help.shape)"
   ]
  },
  {
   "cell_type": "markdown",
   "id": "a4b3859a",
   "metadata": {},
   "source": [
    "### Cross Validation \n",
    "<br>So firstly, we will apply the cross-validation technique using KNN, which can help us analyze which value of K might be better to take into consideration."
   ]
  },
  {
   "cell_type": "code",
   "execution_count": 53,
   "id": "718d6fdf",
   "metadata": {},
   "outputs": [
    {
     "name": "stdout",
     "output_type": "stream",
     "text": [
      "K=1 - Mean accuracy=0.814\n",
      "K=3 - Mean accuracy=0.809\n",
      "K=5 - Mean accuracy=0.806\n"
     ]
    }
   ],
   "source": [
    "#cross validatio using KNN\n",
    "for k in [1,3,5]:\n",
    "    # create a single classifier\n",
    "    model = KNeighborsClassifier(n_neighbors=k)\n",
    "    # apply 5-fold cross-validation, measuring accuracy each time\n",
    "    acc_scores = cross_val_score(model, X_data_help, target_names_help, cv=5, scoring=\"accuracy\")\n",
    "    # get the mean accuracy across 5 folds\n",
    "    mean_acc = acc_scores.mean()\n",
    "    print(\"K=%d - Mean accuracy=%.3f\" % (k,mean_acc) )"
   ]
  },
  {
   "cell_type": "markdown",
   "id": "9033b859",
   "metadata": {},
   "source": [
    "### KNN=3 using hold-out Stratergy<br>\n",
    "We will now build KNN using our test and train set and calculate the accuracy and other methods of accuracy for this model."
   ]
  },
  {
   "cell_type": "code",
   "execution_count": 54,
   "id": "e22542a8",
   "metadata": {},
   "outputs": [
    {
     "data": {
      "text/plain": [
       "KNeighborsClassifier(n_neighbors=3)"
      ]
     },
     "execution_count": 54,
     "metadata": {},
     "output_type": "execute_result"
    }
   ],
   "source": [
    "# build a model on the document-term matrix created from the original set of documents\n",
    "model_help_KNN = KNeighborsClassifier(n_neighbors=3)\n",
    "model_help_KNN.fit(X_train_help, train_target_help)"
   ]
  },
  {
   "cell_type": "code",
   "execution_count": 55,
   "id": "b2f48dd9",
   "metadata": {},
   "outputs": [],
   "source": [
    "#predicted values\n",
    "predicted_KNN_help = model_help_KNN.predict(X_test_help)"
   ]
  },
  {
   "cell_type": "code",
   "execution_count": 56,
   "id": "01e17689",
   "metadata": {},
   "outputs": [
    {
     "name": "stdout",
     "output_type": "stream",
     "text": [
      "Classification accuracy = 0.813\n"
     ]
    }
   ],
   "source": [
    "#accuracy check\n",
    "acc_KNN = accuracy_score(test_target_help, predicted_KNN_help)\n",
    "print(\"Classification accuracy = %.3f\" % acc_KNN)"
   ]
  },
  {
   "cell_type": "code",
   "execution_count": 57,
   "id": "99729362",
   "metadata": {},
   "outputs": [],
   "source": [
    "#set target values for helpfulness\n",
    "target_categories_help = [\"Helpfull\",\"Not-Helpful\"]"
   ]
  },
  {
   "cell_type": "code",
   "execution_count": 58,
   "id": "065f8e82",
   "metadata": {},
   "outputs": [
    {
     "name": "stdout",
     "output_type": "stream",
     "text": [
      "              precision    recall  f1-score   support\n",
      "\n",
      "    Helpfull       0.84      0.93      0.88      2145\n",
      " Not-Helpful       0.63      0.41      0.50       629\n",
      "\n",
      "    accuracy                           0.81      2774\n",
      "   macro avg       0.74      0.67      0.69      2774\n",
      "weighted avg       0.80      0.81      0.80      2774\n",
      "\n"
     ]
    }
   ],
   "source": [
    "from sklearn.metrics import classification_report\n",
    "print(classification_report(test_target_help, predicted_KNN_help, target_names=target_categories_help))"
   ]
  },
  {
   "cell_type": "markdown",
   "id": "c1b8764c",
   "metadata": {},
   "source": [
    "As we can see that the accuracy comes out to be similar, for K=3 for cross-validation and hold-out KNN. We can also check that if we increase the folds of the cross validation how our model would work."
   ]
  },
  {
   "cell_type": "code",
   "execution_count": 59,
   "id": "72e2f8b5",
   "metadata": {},
   "outputs": [
    {
     "data": {
      "image/png": "[encoded data removed]",
      "text/plain": [
       "<Figure size 432x288 with 2 Axes>"
      ]
     },
     "metadata": {
      "needs_background": "light"
     },
     "output_type": "display_data"
    }
   ],
   "source": [
    "# calculate the confusion matrix\n",
    "cm_KNN = confusion_matrix(test_target_help, predicted_KNN_help)\n",
    "# display it graphically\n",
    "cmd = ConfusionMatrixDisplay(cm_KNN, display_labels=target_categories_help)\n",
    "cmd.plot();"
   ]
  },
  {
   "cell_type": "markdown",
   "id": "cfb4be0e",
   "metadata": {},
   "source": [
    "**Comment:** Now, for our train and test split, we can see that the **accuracy is 81.3%** for KNN while the precision is lower for the Not-Helpful class, possibly because the number of Not-Helpful must be lower than the number of Helpful, or perhaps if the deciding percentage was lower, it would have been quite similar. The confusion matrix demonstrates this; we can see that the Helpful class is dominating here and that a greater percentage as a cut-off indicates that the majority of the evaluations were helpful."
   ]
  },
  {
   "cell_type": "markdown",
   "id": "70aca276",
   "metadata": {},
   "source": [
    "### Pipeline Classification- SVM<br>\n",
    "Pipeline helps in doing every step together, like data preparation(tokenization) and classification. So below we created a pipeline using the SVM classifier and the tokenizer we defined above."
   ]
  },
  {
   "cell_type": "code",
   "execution_count": 60,
   "id": "9ff3b968",
   "metadata": {},
   "outputs": [],
   "source": [
    "#Pipeline using SVM\n",
    "pipeline_SVM_help = Pipeline([\n",
    "    ('vec', TfidfVectorizer(stop_words=\"english\", min_df = 10, tokenizer=lemma_tokenizer)),\n",
    "    ('tfidf', TfidfTransformer()),\n",
    "    ('clf', SGDClassifier())\n",
    "])"
   ]
  },
  {
   "cell_type": "code",
   "execution_count": 61,
   "id": "1a77d0fa",
   "metadata": {},
   "outputs": [
    {
     "data": {
      "text/plain": [
       "Pipeline(steps=[('vec',\n",
       "                 TfidfVectorizer(min_df=10, stop_words='english',\n",
       "                                 tokenizer=<function lemma_tokenizer at 0x000001C8078C23A0>)),\n",
       "                ('tfidf', TfidfTransformer()), ('clf', SGDClassifier())])"
      ]
     },
     "execution_count": 61,
     "metadata": {},
     "output_type": "execute_result"
    }
   ],
   "source": [
    "#fit SVM model\n",
    "pipeline_SVM_help.fit(train_data_help, train_target_help)"
   ]
  },
  {
   "cell_type": "code",
   "execution_count": 62,
   "id": "5b589f7e",
   "metadata": {},
   "outputs": [
    {
     "name": "stdout",
     "output_type": "stream",
     "text": [
      "Classification accuracy = 0.838\n"
     ]
    }
   ],
   "source": [
    "#predict SVM model\n",
    "predicted_SVM_help = pipeline_SVM_help.predict(test_data_help)\n",
    "print(\"Classification accuracy = %.3f\" % accuracy_score(test_target_help, predicted_SVM_help))"
   ]
  },
  {
   "cell_type": "code",
   "execution_count": 63,
   "id": "28701be3",
   "metadata": {},
   "outputs": [
    {
     "name": "stdout",
     "output_type": "stream",
     "text": [
      "              precision    recall  f1-score   support\n",
      "\n",
      "    Helpfull       0.86      0.95      0.90      2145\n",
      " Not-Helpful       0.72      0.46      0.57       629\n",
      "\n",
      "    accuracy                           0.84      2774\n",
      "   macro avg       0.79      0.71      0.73      2774\n",
      "weighted avg       0.83      0.84      0.82      2774\n",
      "\n"
     ]
    }
   ],
   "source": [
    "# classification report to show all the accuracy metrics\n",
    "print(classification_report(test_target_help, predicted_SVM_help, target_names=target_categories_help))"
   ]
  },
  {
   "cell_type": "code",
   "execution_count": 64,
   "id": "f0dd7338",
   "metadata": {},
   "outputs": [
    {
     "data": {
      "image/png": "[encoded data removed]",
      "text/plain": [
       "<Figure size 432x288 with 2 Axes>"
      ]
     },
     "metadata": {
      "needs_background": "light"
     },
     "output_type": "display_data"
    }
   ],
   "source": [
    "# calculate the confusion matrix\n",
    "cm_SVM = confusion_matrix(test_target_help, predicted_SVM_help)\n",
    "# display it graphically\n",
    "cmd = ConfusionMatrixDisplay(cm_SVM, display_labels=target_categories_help)\n",
    "cmd.plot();"
   ]
  },
  {
   "cell_type": "markdown",
   "id": "7389c561",
   "metadata": {},
   "source": [
    "Same as sentiment Analysis, SVM worked better than KNN while analyzing Helpfulness for this dataset. The **accuracy is 83.8%**, and we can see that it predicted the \"Not-helpful\" class more accurately."
   ]
  },
  {
   "cell_type": "markdown",
   "id": "4aab6cd3",
   "metadata": {},
   "source": [
    "There are other classifications as well which we can try and test to see which fits better to our data set, we will be using the same tokenizer, ie. lemming, and same vectorizer that is TFIDF."
   ]
  },
  {
   "cell_type": "markdown",
   "id": "92afe898",
   "metadata": {},
   "source": [
    "### Pipeline Classification- Logistic Regression"
   ]
  },
  {
   "cell_type": "code",
   "execution_count": 65,
   "id": "df32628a",
   "metadata": {},
   "outputs": [],
   "source": [
    "#Pipeline using Logistic regression\n",
    "pipeline_LR = Pipeline([\n",
    "    ('vec', TfidfVectorizer(stop_words=\"english\", min_df = 10, tokenizer=lemma_tokenizer)),\n",
    "    ('tfidf', TfidfTransformer()),\n",
    "    ('clf', LogisticRegression(random_state=0))\n",
    "])"
   ]
  },
  {
   "cell_type": "code",
   "execution_count": 66,
   "id": "9ba7f67e",
   "metadata": {},
   "outputs": [
    {
     "data": {
      "text/plain": [
       "Pipeline(steps=[('vec',\n",
       "                 TfidfVectorizer(min_df=10, stop_words='english',\n",
       "                                 tokenizer=<function lemma_tokenizer at 0x000001C8078C23A0>)),\n",
       "                ('tfidf', TfidfTransformer()),\n",
       "                ('clf', LogisticRegression(random_state=0))])"
      ]
     },
     "execution_count": 66,
     "metadata": {},
     "output_type": "execute_result"
    }
   ],
   "source": [
    "#Logistic regression fit\n",
    "pipeline_LR.fit(train_data_help, train_target_help)"
   ]
  },
  {
   "cell_type": "code",
   "execution_count": 67,
   "id": "126e8225",
   "metadata": {},
   "outputs": [
    {
     "name": "stdout",
     "output_type": "stream",
     "text": [
      "Classification accuracy = 0.822\n"
     ]
    }
   ],
   "source": [
    "#Logistic regression prediction\n",
    "predicted_LR_Help = pipeline_LR.predict(test_data_help)\n",
    "print(\"Classification accuracy = %.3f\" % accuracy_score(test_target_help, predicted_LR_Help))"
   ]
  },
  {
   "cell_type": "code",
   "execution_count": 68,
   "id": "ea25a5a2",
   "metadata": {},
   "outputs": [
    {
     "data": {
      "image/png": "[encoded data removed]",
      "text/plain": [
       "<Figure size 432x288 with 2 Axes>"
      ]
     },
     "metadata": {
      "needs_background": "light"
     },
     "output_type": "display_data"
    }
   ],
   "source": [
    "# calculate the confusion matrix\n",
    "cm_LR = confusion_matrix(test_target_help, predicted_LR_Help)\n",
    "# display it graphically\n",
    "cmd = ConfusionMatrixDisplay(cm_LR, display_labels=target_categories_help)\n",
    "cmd.plot();"
   ]
  },
  {
   "cell_type": "markdown",
   "id": "08f90f4f",
   "metadata": {},
   "source": [
    "We can see that, Logistic Regression accuracy was less than SVM but greater than KNN."
   ]
  },
  {
   "cell_type": "markdown",
   "id": "802288ba",
   "metadata": {},
   "source": [
    "**Sentiment and Helpfulness Comparison:** We can see that KNN performed more accurately for helpfulness analysis than sentiment analysis, while SVM performed better for Sentiment Analysis than helpfulness, which may be attributed to three factors: a high train-test split %, the usage of TFIDvectorizer, and the use of lemming as a tokenization method. <br>\n",
    "**We may even claim that the number of positive ratings is exactly related to the helpfulness quotient because more ratings equal more help.**"
   ]
  },
  {
   "cell_type": "markdown",
   "id": "3f7994f0",
   "metadata": {},
   "source": [
    "Few comparison points for different types of Classifiers:\n",
    "1. SVM performed best in all the cases, as SVM usually deals with creating boundaries that works best for text classifications\n",
    "2. KNN and Logistic Regression also had good accuracies but they would work best with models where there are dependent variables.\n",
    "3. KNN is easy to model while others are complex models."
   ]
  },
  {
   "cell_type": "markdown",
   "id": "5c906e07",
   "metadata": {},
   "source": [
    "## Conclusion:"
   ]
  },
  {
   "cell_type": "markdown",
   "id": "b7bd8a09",
   "metadata": {},
   "source": [
    "### Accuracy Comparision for Sentiment and Helpfulness Analysis:\n",
    "\n",
    "| Classifiers      | Sentiment Analysis | Helpfulness Analysis |\n",
    "| ----------- | ----------- |-----------------|\n",
    "| KNN      | Less       | More |\n",
    "| SVM   | More       | Less |"
   ]
  },
  {
   "cell_type": "markdown",
   "id": "33695bc4",
   "metadata": {},
   "source": [
    "1. TFIDFVectorization is better than CountVectorization.\n",
    "2. Lemming is better than Stemming.\n",
    "3. SVM performed the best for both data sets.\n",
    "4. Train-test split of 30% gave more accuracy for KNN\n",
    "5. Cross-fold validation gave less accuracy than the hold-out strategy.\n",
    "6. Cross-fold validation with more folds will give a more accurate model but a not ideal scenario that may work better for larger data sets."
   ]
  }
 ],
 "metadata": {
  "kernelspec": {
   "display_name": "Python 3 (ipykernel)",
   "language": "python",
   "name": "python3"
  },
  "language_info": {
   "codemirror_mode": {
    "name": "ipython",
    "version": 3
   },
   "file_extension": ".py",
   "mimetype": "text/x-python",
   "name": "python",
   "nbconvert_exporter": "python",
   "pygments_lexer": "ipython3",
   "version": "3.9.7"
  }
 },
 "nbformat": 4,
 "nbformat_minor": 5
}
